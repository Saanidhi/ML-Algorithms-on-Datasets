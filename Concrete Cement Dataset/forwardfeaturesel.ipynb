{
  "nbformat": 4,
  "nbformat_minor": 0,
  "metadata": {
    "colab": {
      "name": "forwardfeaturesel.ipynb",
      "version": "0.3.2",
      "provenance": [],
      "collapsed_sections": []
    },
    "kernelspec": {
      "name": "python3",
      "display_name": "Python 3"
    }
  },
  "cells": [
    {
      "cell_type": "code",
      "metadata": {
        "id": "PJubnXmD6q3K",
        "colab_type": "code",
        "colab": {}
      },
      "source": [
        "#importing libraries\n",
        "import numpy as np\n",
        "import pandas as pd\n",
        "import matplotlib.pyplot as plt\n",
        "import seaborn as sns\n",
        "import itertools\n",
        "%matplotlib inline"
      ],
      "execution_count": 0,
      "outputs": []
    },
    {
      "cell_type": "code",
      "metadata": {
        "id": "uH2GTTfV6y29",
        "colab_type": "code",
        "outputId": "ac4a7048-a61a-4087-a96c-287b95e7a911",
        "colab": {
          "base_uri": "https://localhost:8080/",
          "height": 224
        }
      },
      "source": [
        "data = pd.read_csv(\"concrete_data.csv\")\n",
        "data.head()"
      ],
      "execution_count": 0,
      "outputs": [
        {
          "output_type": "execute_result",
          "data": {
            "text/html": [
              "<div>\n",
              "<style scoped>\n",
              "    .dataframe tbody tr th:only-of-type {\n",
              "        vertical-align: middle;\n",
              "    }\n",
              "\n",
              "    .dataframe tbody tr th {\n",
              "        vertical-align: top;\n",
              "    }\n",
              "\n",
              "    .dataframe thead th {\n",
              "        text-align: right;\n",
              "    }\n",
              "</style>\n",
              "<table border=\"1\" class=\"dataframe\">\n",
              "  <thead>\n",
              "    <tr style=\"text-align: right;\">\n",
              "      <th></th>\n",
              "      <th>cement</th>\n",
              "      <th>blast_furnace_slag</th>\n",
              "      <th>fly_ash</th>\n",
              "      <th>water</th>\n",
              "      <th>superplasticizer</th>\n",
              "      <th>coarse_aggregate</th>\n",
              "      <th>fine_aggregate</th>\n",
              "      <th>age</th>\n",
              "      <th>concrete_compressive_strength</th>\n",
              "    </tr>\n",
              "  </thead>\n",
              "  <tbody>\n",
              "    <tr>\n",
              "      <th>0</th>\n",
              "      <td>540.0</td>\n",
              "      <td>0.0</td>\n",
              "      <td>0.0</td>\n",
              "      <td>162.0</td>\n",
              "      <td>2.5</td>\n",
              "      <td>1040.0</td>\n",
              "      <td>676.0</td>\n",
              "      <td>28</td>\n",
              "      <td>79.99</td>\n",
              "    </tr>\n",
              "    <tr>\n",
              "      <th>1</th>\n",
              "      <td>540.0</td>\n",
              "      <td>0.0</td>\n",
              "      <td>0.0</td>\n",
              "      <td>162.0</td>\n",
              "      <td>2.5</td>\n",
              "      <td>1055.0</td>\n",
              "      <td>676.0</td>\n",
              "      <td>28</td>\n",
              "      <td>61.89</td>\n",
              "    </tr>\n",
              "    <tr>\n",
              "      <th>2</th>\n",
              "      <td>332.5</td>\n",
              "      <td>142.5</td>\n",
              "      <td>0.0</td>\n",
              "      <td>228.0</td>\n",
              "      <td>0.0</td>\n",
              "      <td>932.0</td>\n",
              "      <td>594.0</td>\n",
              "      <td>270</td>\n",
              "      <td>40.27</td>\n",
              "    </tr>\n",
              "    <tr>\n",
              "      <th>3</th>\n",
              "      <td>332.5</td>\n",
              "      <td>142.5</td>\n",
              "      <td>0.0</td>\n",
              "      <td>228.0</td>\n",
              "      <td>0.0</td>\n",
              "      <td>932.0</td>\n",
              "      <td>594.0</td>\n",
              "      <td>365</td>\n",
              "      <td>41.05</td>\n",
              "    </tr>\n",
              "    <tr>\n",
              "      <th>4</th>\n",
              "      <td>198.6</td>\n",
              "      <td>132.4</td>\n",
              "      <td>0.0</td>\n",
              "      <td>192.0</td>\n",
              "      <td>0.0</td>\n",
              "      <td>978.4</td>\n",
              "      <td>825.5</td>\n",
              "      <td>360</td>\n",
              "      <td>44.30</td>\n",
              "    </tr>\n",
              "  </tbody>\n",
              "</table>\n",
              "</div>"
            ],
            "text/plain": [
              "   cement  blast_furnace_slag  ...  age  concrete_compressive_strength\n",
              "0   540.0                 0.0  ...   28                          79.99\n",
              "1   540.0                 0.0  ...   28                          61.89\n",
              "2   332.5               142.5  ...  270                          40.27\n",
              "3   332.5               142.5  ...  365                          41.05\n",
              "4   198.6               132.4  ...  360                          44.30\n",
              "\n",
              "[5 rows x 9 columns]"
            ]
          },
          "metadata": {
            "tags": []
          },
          "execution_count": 4
        }
      ]
    },
    {
      "cell_type": "code",
      "metadata": {
        "id": "rBnRANqm62jR",
        "colab_type": "code",
        "colab": {}
      },
      "source": [
        "#Splitting train and test data\n",
        "from sklearn.model_selection import train_test_split\n",
        "\n",
        "train,test = train_test_split(data,test_size =.3,random_state = 123)\n",
        "train_X = train[[x for x in train.columns if x not in [\"concrete_compressive_strength\"]]]\n",
        "train_Y = train[\"concrete_compressive_strength\"]\n",
        "test_X  = test[[x for x in test.columns if x not in [\"concrete_compressive_strength\"]]]\n",
        "test_Y  = test[\"concrete_compressive_strength\"]"
      ],
      "execution_count": 0,
      "outputs": []
    },
    {
      "cell_type": "code",
      "metadata": {
        "id": "5KVnGouP69wh",
        "colab_type": "code",
        "outputId": "466b85e8-7e84-40e8-c10f-e56e41afe7a7",
        "colab": {
          "base_uri": "https://localhost:8080/",
          "height": 187
        }
      },
      "source": [
        "from sklearn.linear_model import LinearRegression\n",
        "rseleast=100000\n",
        "z=0\n",
        "train_Xs=train_X\n",
        "test_Xs=test_X\n",
        "for y in train_Xs:\n",
        "  reg_model=LinearRegression()\n",
        "  \n",
        "  reg_model.fit(train_Xs[y].values.reshape(-1,1),train_Y)\n",
        "  y_pred=reg_model.predict(test_Xs[y].values.reshape(-1,1))\n",
        "  print(np.sqrt((np.sum(np.square(test_Y-y_pred)))/1028))\n",
        "  l=np.sqrt((np.sum(np.square(test_Y-y_pred)))/1028)\n",
        "  if l<rseleast:\n",
        "    rseleast=l\n",
        "    z=y\n",
        "print(\"Feature_idx\",z)\n",
        "print(\"RSE\",rseleast)"
      ],
      "execution_count": 0,
      "outputs": [
        {
          "output_type": "stream",
          "text": [
            "7.760176698715071\n",
            "8.86294158084109\n",
            "8.862198552933716\n",
            "8.452653530742564\n",
            "8.527907676917922\n",
            "8.850352758235461\n",
            "8.862438602232453\n",
            "8.377393686979854\n",
            "Feature_idx cement\n",
            "RSE 7.760176698715071\n"
          ],
          "name": "stdout"
        }
      ]
    },
    {
      "cell_type": "code",
      "metadata": {
        "id": "Yr0UVGc-DPyr",
        "colab_type": "code",
        "outputId": "71f7461e-765d-4a07-a6f8-ef88c5bdb883",
        "colab": {
          "base_uri": "https://localhost:8080/",
          "height": 1000
        }
      },
      "source": [
        "print(train_X)"
      ],
      "execution_count": 0,
      "outputs": [
        {
          "output_type": "stream",
          "text": [
            "     cement  blast_furnace_slag  ...  fine_aggregate   age\n",
            "666   192.0               288.0  ...            716.1    3\n",
            "237   213.8                98.1  ...            785.5   56\n",
            "725   310.0                 0.0  ...            830.0  120\n",
            "802   339.0                 0.0  ...            754.0   28\n",
            "568   397.0                 0.0  ...            734.3    7\n",
            "956   149.0               117.6  ...            780.3   28\n",
            "928   149.0               153.0  ...            623.0   28\n",
            "900   150.0               237.0  ...            675.0   28\n",
            "925   164.0               163.0  ...            641.0   28\n",
            "240   229.7                 0.0  ...            757.6   14\n",
            "581   181.9               272.8  ...            714.3    7\n",
            "624   307.0                 0.0  ...            812.0   28\n",
            "444   251.4                 0.0  ...            754.3   28\n",
            "796   500.0                 0.0  ...            613.0   90\n",
            "178   286.3               200.9  ...            803.7   91\n",
            "123   425.0               106.3  ...            887.1   28\n",
            "243   229.7                 0.0  ...            757.6  100\n",
            "338   275.1                 0.0  ...            777.5  100\n",
            "202   190.7                 0.0  ...            804.0   56\n",
            "300   290.4                 0.0  ...            865.0   14\n",
            "595   186.2               124.1  ...            764.3   28\n",
            "230   213.7                98.1  ...            785.4   14\n",
            "306   277.1                 0.0  ...            875.6   28\n",
            "166   375.0                93.8  ...            992.6   91\n",
            "648   141.3               212.0  ...            748.5   28\n",
            "710   250.2               166.8  ...            694.1   28\n",
            "263   212.6                 0.0  ...            903.8  100\n",
            "351   213.5                 0.0  ...            775.5   28\n",
            "232   213.7                98.1  ...            785.4   56\n",
            "150   318.8               212.5  ...            880.4   56\n",
            "..      ...                 ...  ...              ...  ...\n",
            "176   379.5               151.2  ...            605.0   91\n",
            "957   143.0               169.4  ...            643.5   28\n",
            "504   491.0                26.0  ...            699.0    3\n",
            "559   239.6               359.4  ...            664.3   28\n",
            "596   170.3               155.5  ...            724.3    7\n",
            "322   249.1                 0.0  ...            889.0   56\n",
            "39    237.5               237.5  ...            594.0  180\n",
            "340   297.2                 0.0  ...            753.5   14\n",
            "2     332.5               142.5  ...            594.0  270\n",
            "451   167.0                75.4  ...            770.1   56\n",
            "823   322.0                 0.0  ...            800.0  180\n",
            "817   525.0                 0.0  ...            613.0   14\n",
            "68    190.0               190.0  ...            670.0   28\n",
            "208   212.1                 0.0  ...            779.3  100\n",
            "608   236.0                 0.0  ...            885.0   90\n",
            "420   165.0               128.5  ...            746.6   14\n",
            "253   250.0                 0.0  ...            861.2  100\n",
            "846   366.0               187.0  ...            757.0   28\n",
            "339   297.2                 0.0  ...            753.5    3\n",
            "409   167.4               129.9  ...            746.6    3\n",
            "111   362.6               189.0  ...            755.8    7\n",
            "224   168.0                42.1  ...            780.1    3\n",
            "942   313.3               145.0  ...            824.0   28\n",
            "544   289.0                 0.0  ...            895.3    7\n",
            "73    425.0               106.3  ...            803.7    3\n",
            "47    380.0                95.0  ...            594.0  180\n",
            "638   375.0                 0.0  ...            758.0   28\n",
            "113   389.9               189.0  ...            755.8    7\n",
            "96    425.0               106.3  ...            803.7    7\n",
            "106   362.6               189.0  ...            755.8    7\n",
            "\n",
            "[721 rows x 8 columns]\n"
          ],
          "name": "stdout"
        }
      ]
    },
    {
      "cell_type": "code",
      "metadata": {
        "id": "iXQt5gyiRry8",
        "colab_type": "code",
        "outputId": "6b586058-6d54-4ee5-df3a-ce45b6031bab",
        "colab": {
          "base_uri": "https://localhost:8080/",
          "height": 1000
        }
      },
      "source": [
        "print(train_X['cement'])"
      ],
      "execution_count": 0,
      "outputs": [
        {
          "output_type": "stream",
          "text": [
            "     cement  blast_furnace_slag  ...  fine_aggregate   age\n",
            "666   192.0               288.0  ...            716.1    3\n",
            "237   213.8                98.1  ...            785.5   56\n",
            "725   310.0                 0.0  ...            830.0  120\n",
            "802   339.0                 0.0  ...            754.0   28\n",
            "568   397.0                 0.0  ...            734.3    7\n",
            "956   149.0               117.6  ...            780.3   28\n",
            "928   149.0               153.0  ...            623.0   28\n",
            "900   150.0               237.0  ...            675.0   28\n",
            "925   164.0               163.0  ...            641.0   28\n",
            "240   229.7                 0.0  ...            757.6   14\n",
            "581   181.9               272.8  ...            714.3    7\n",
            "624   307.0                 0.0  ...            812.0   28\n",
            "444   251.4                 0.0  ...            754.3   28\n",
            "796   500.0                 0.0  ...            613.0   90\n",
            "178   286.3               200.9  ...            803.7   91\n",
            "123   425.0               106.3  ...            887.1   28\n",
            "243   229.7                 0.0  ...            757.6  100\n",
            "338   275.1                 0.0  ...            777.5  100\n",
            "202   190.7                 0.0  ...            804.0   56\n",
            "300   290.4                 0.0  ...            865.0   14\n",
            "595   186.2               124.1  ...            764.3   28\n",
            "230   213.7                98.1  ...            785.4   14\n",
            "306   277.1                 0.0  ...            875.6   28\n",
            "166   375.0                93.8  ...            992.6   91\n",
            "648   141.3               212.0  ...            748.5   28\n",
            "710   250.2               166.8  ...            694.1   28\n",
            "263   212.6                 0.0  ...            903.8  100\n",
            "351   213.5                 0.0  ...            775.5   28\n",
            "232   213.7                98.1  ...            785.4   56\n",
            "150   318.8               212.5  ...            880.4   56\n",
            "..      ...                 ...  ...              ...  ...\n",
            "176   379.5               151.2  ...            605.0   91\n",
            "957   143.0               169.4  ...            643.5   28\n",
            "504   491.0                26.0  ...            699.0    3\n",
            "559   239.6               359.4  ...            664.3   28\n",
            "596   170.3               155.5  ...            724.3    7\n",
            "322   249.1                 0.0  ...            889.0   56\n",
            "39    237.5               237.5  ...            594.0  180\n",
            "340   297.2                 0.0  ...            753.5   14\n",
            "2     332.5               142.5  ...            594.0  270\n",
            "451   167.0                75.4  ...            770.1   56\n",
            "823   322.0                 0.0  ...            800.0  180\n",
            "817   525.0                 0.0  ...            613.0   14\n",
            "68    190.0               190.0  ...            670.0   28\n",
            "208   212.1                 0.0  ...            779.3  100\n",
            "608   236.0                 0.0  ...            885.0   90\n",
            "420   165.0               128.5  ...            746.6   14\n",
            "253   250.0                 0.0  ...            861.2  100\n",
            "846   366.0               187.0  ...            757.0   28\n",
            "339   297.2                 0.0  ...            753.5    3\n",
            "409   167.4               129.9  ...            746.6    3\n",
            "111   362.6               189.0  ...            755.8    7\n",
            "224   168.0                42.1  ...            780.1    3\n",
            "942   313.3               145.0  ...            824.0   28\n",
            "544   289.0                 0.0  ...            895.3    7\n",
            "73    425.0               106.3  ...            803.7    3\n",
            "47    380.0                95.0  ...            594.0  180\n",
            "638   375.0                 0.0  ...            758.0   28\n",
            "113   389.9               189.0  ...            755.8    7\n",
            "96    425.0               106.3  ...            803.7    7\n",
            "106   362.6               189.0  ...            755.8    7\n",
            "\n",
            "[721 rows x 8 columns]\n"
          ],
          "name": "stdout"
        }
      ]
    },
    {
      "cell_type": "code",
      "metadata": {
        "id": "F30BhUKN9Vak",
        "colab_type": "code",
        "outputId": "83440ba8-5231-4127-d264-2a0579e3550a",
        "colab": {
          "base_uri": "https://localhost:8080/",
          "height": 170
        }
      },
      "source": [
        "from sklearn.linear_model import LinearRegression\n",
        "rseleast=100000\n",
        "z=0\n",
        "\n",
        "for y in train_X:\n",
        "  train_Xs=train_X\n",
        "  test_Xs=test_X\n",
        "  reg_model=LinearRegression()\n",
        "  if(y!='cement'):\n",
        "    reg_model.fit(train_Xs[['cement',y]],train_Y)\n",
        "    y_pred=reg_model.predict(test_Xs[['cement',y]])\n",
        "    print(np.sqrt((np.sum(np.square(test_Y-y_pred)))/1028))\n",
        "    l=np.sqrt((np.sum(np.square(test_Y-y_pred)))/1028)\n",
        "    if l<rseleast:\n",
        "      rseleast=l\n",
        "      z=y\n",
        "print(\"Feature_idx\",z)\n",
        "print(\"RSE\",rseleast)"
      ],
      "execution_count": 0,
      "outputs": [
        {
          "output_type": "stream",
          "text": [
            "7.446624446663081\n",
            "7.689131065707836\n",
            "7.387324330131981\n",
            "7.452747246688692\n",
            "7.736983506440667\n",
            "7.752402466038778\n",
            "7.271695878155201\n",
            "Feature_idx age\n",
            "RSE 7.271695878155201\n"
          ],
          "name": "stdout"
        }
      ]
    },
    {
      "cell_type": "code",
      "metadata": {
        "id": "hFqfyyaPSV0R",
        "colab_type": "code",
        "outputId": "e8bec697-e940-4ba0-d965-48645feeddad",
        "colab": {
          "base_uri": "https://localhost:8080/",
          "height": 153
        }
      },
      "source": [
        "from sklearn.linear_model import LinearRegression\n",
        "rseleast=100000\n",
        "z=0\n",
        "\n",
        "for y in train_X:\n",
        "  train_Xs=train_X\n",
        "  test_Xs=test_X\n",
        "  reg_model=LinearRegression()\n",
        "  if(y!='cement' and y!='age'):\n",
        "    reg_model.fit(train_Xs[['cement','age',y]],train_Y)\n",
        "    y_pred=reg_model.predict(test_Xs[['cement','age',y]])\n",
        "    print(np.sqrt((np.sum(np.square(test_Y-y_pred)))/1028))\n",
        "    l=np.sqrt((np.sum(np.square(test_Y-y_pred)))/1028)\n",
        "    if l<rseleast:\n",
        "      rseleast=l\n",
        "      z=y\n",
        "print(\"Feature_idx\",z)\n",
        "print(\"RSE\",rseleast)"
      ],
      "execution_count": 0,
      "outputs": [
        {
          "output_type": "stream",
          "text": [
            "6.87728821798366\n",
            "7.143530081172837\n",
            "6.72464165983373\n",
            "6.722054874613091\n",
            "7.223940714921204\n",
            "7.268286694428952\n",
            "Feature_idx superplasticizer\n",
            "RSE 6.722054874613091\n"
          ],
          "name": "stdout"
        }
      ]
    },
    {
      "cell_type": "code",
      "metadata": {
        "id": "7K-J1aIdS9lQ",
        "colab_type": "code",
        "outputId": "f80e9ef7-6eeb-4666-9658-e725042c5dc0",
        "colab": {
          "base_uri": "https://localhost:8080/",
          "height": 136
        }
      },
      "source": [
        "from sklearn.linear_model import LinearRegression\n",
        "rseleast=100000\n",
        "z=0\n",
        "\n",
        "for y in train_X:\n",
        "  train_Xs=train_X\n",
        "  test_Xs=test_X\n",
        "  reg_model=LinearRegression()\n",
        "  if(y!='cement' and y!='age' and y!='superplasticizer'):\n",
        "    reg_model.fit(train_Xs[['cement','age','superplasticizer',y]],train_Y)\n",
        "    y_pred=reg_model.predict(test_Xs[['cement','age','superplasticizer',y]])\n",
        "    print(np.sqrt((np.sum(np.square(test_Y-y_pred)))/1028))\n",
        "    l=np.sqrt((np.sum(np.square(test_Y-y_pred)))/1028)\n",
        "    if l<rseleast:\n",
        "      rseleast=l\n",
        "      z=y\n",
        "print(\"Feature_idx\",z)\n",
        "print(\"RSE\",rseleast)"
      ],
      "execution_count": 0,
      "outputs": [
        {
          "output_type": "stream",
          "text": [
            "6.257427282515008\n",
            "6.753951345506695\n",
            "6.620331751076275\n",
            "6.720882303438115\n",
            "6.603137034975622\n",
            "Feature_idx blast_furnace_slag\n",
            "RSE 6.257427282515008\n"
          ],
          "name": "stdout"
        }
      ]
    },
    {
      "cell_type": "code",
      "metadata": {
        "id": "iRoJqMKLTY9k",
        "colab_type": "code",
        "outputId": "9265c53b-3a43-4d61-b063-a7b343c8fe11",
        "colab": {
          "base_uri": "https://localhost:8080/",
          "height": 119
        }
      },
      "source": [
        "from sklearn.linear_model import LinearRegression\n",
        "rseleast=100000\n",
        "z=0\n",
        "\n",
        "for y in train_X:\n",
        "  train_Xs=train_X\n",
        "  test_Xs=test_X\n",
        "  reg_model=LinearRegression()\n",
        "  if(y!='cement' and y!='age' and y!='superplasticizer' and y!='blast_furnace_slag' ):\n",
        "    reg_model.fit(train_Xs[['cement','age','superplasticizer','blast_furnace_slag',y]],train_Y)\n",
        "    y_pred=reg_model.predict(test_Xs[['cement','age','superplasticizer','blast_furnace_slag',y]])\n",
        "    print(np.sqrt((np.sum(np.square(test_Y-y_pred)))/1028))\n",
        "    l=np.sqrt((np.sum(np.square(test_Y-y_pred)))/1028)\n",
        "    if l<rseleast:\n",
        "      rseleast=l\n",
        "      z=y\n",
        "print(\"Feature_idx\",z)\n",
        "print(\"RSE\",rseleast)"
      ],
      "execution_count": 0,
      "outputs": [
        {
          "output_type": "stream",
          "text": [
            "5.994413521842077\n",
            "5.972371454232604\n",
            "6.21403220289327\n",
            "6.262010425238752\n",
            "Feature_idx water\n",
            "RSE 5.972371454232604\n"
          ],
          "name": "stdout"
        }
      ]
    },
    {
      "cell_type": "code",
      "metadata": {
        "id": "MZWIBheITvSx",
        "colab_type": "code",
        "outputId": "4685c71d-9524-4ef3-d63a-92b330b70c28",
        "colab": {
          "base_uri": "https://localhost:8080/",
          "height": 102
        }
      },
      "source": [
        "from sklearn.linear_model import LinearRegression\n",
        "rseleast=100000\n",
        "z=0\n",
        "\n",
        "for y in train_X:\n",
        "  train_Xs=train_X\n",
        "  test_Xs=test_X\n",
        "  reg_model=LinearRegression()\n",
        "  if(y!='cement' and y!='age' and y!='superplasticizer' and y!='blast_furnace_slag'and y!='water' ):\n",
        "    reg_model.fit(train_Xs[['cement','age','superplasticizer','blast_furnace_slag','water',y]],train_Y)\n",
        "    y_pred=reg_model.predict(test_Xs[['cement','age','superplasticizer','blast_furnace_slag','water',y]])\n",
        "    print(np.sqrt((np.sum(np.square(test_Y-y_pred)))/1028))\n",
        "    l=np.sqrt((np.sum(np.square(test_Y-y_pred)))/1028)\n",
        "    if l<rseleast:\n",
        "      rseleast=l\n",
        "      z=y\n",
        "print(\"Feature_idx\",z)\n",
        "print(\"RSE\",rseleast)"
      ],
      "execution_count": 0,
      "outputs": [
        {
          "output_type": "stream",
          "text": [
            "5.624471577234053\n",
            "5.972873269343234\n",
            "5.882697722895404\n",
            "Feature_idx fly_ash\n",
            "RSE 5.624471577234053\n"
          ],
          "name": "stdout"
        }
      ]
    },
    {
      "cell_type": "code",
      "metadata": {
        "id": "l5ALnEaUT56a",
        "colab_type": "code",
        "outputId": "a70dce13-237a-447a-8fc1-9c8ebec5f96c",
        "colab": {
          "base_uri": "https://localhost:8080/",
          "height": 85
        }
      },
      "source": [
        "from sklearn.linear_model import LinearRegression\n",
        "rseleast=100000\n",
        "z=0\n",
        "\n",
        "for y in train_X:\n",
        "  train_Xs=train_X\n",
        "  test_Xs=test_X\n",
        "  reg_model=LinearRegression()\n",
        "  if(y!='cement' and y!='age' and y!='superplasticizer' and y!='blast_furnace_slag'and y!='water' and y!='fly_ash'):\n",
        "    reg_model.fit(train_Xs[['cement','age','superplasticizer','blast_furnace_slag','water','fly_ash',y]],train_Y)\n",
        "    y_pred=reg_model.predict(test_Xs[['cement','age','superplasticizer','blast_furnace_slag','water','fly_ash',y]])\n",
        "    print(np.sqrt((np.sum(np.square(test_Y-y_pred)))/1028))\n",
        "    l=np.sqrt((np.sum(np.square(test_Y-y_pred)))/1028)\n",
        "    if l<rseleast:\n",
        "      rseleast=l\n",
        "      z=y\n",
        "print(\"Feature_idx\",z)\n",
        "print(\"RSE\",rseleast)"
      ],
      "execution_count": 0,
      "outputs": [
        {
          "output_type": "stream",
          "text": [
            "5.62189444938233\n",
            "5.628917334981542\n",
            "Feature_idx coarse_aggregate\n",
            "RSE 5.62189444938233\n"
          ],
          "name": "stdout"
        }
      ]
    },
    {
      "cell_type": "code",
      "metadata": {
        "id": "1_Lr8DVwUI2-",
        "colab_type": "code",
        "outputId": "298e361b-ffba-453e-b22a-40578925f311",
        "colab": {
          "base_uri": "https://localhost:8080/",
          "height": 68
        }
      },
      "source": [
        "from sklearn.linear_model import LinearRegression\n",
        "rseleast=100000\n",
        "z=0\n",
        "\n",
        "for y in train_X:\n",
        "  train_Xs=train_X\n",
        "  test_Xs=test_X\n",
        "  reg_model=LinearRegression()\n",
        "  if(y!='cement' and y!='age' and y!='superplasticizer' and y!='blast_furnace_slag'and y!='water' and y!='fly_ash' and y!='coarse_aggregate'):\n",
        "    reg_model.fit(train_Xs[['cement','age','superplasticizer','blast_furnace_slag','water','fly_ash','coarse_aggregate',y]],train_Y)\n",
        "    y_pred=reg_model.predict(test_Xs[['cement','age','superplasticizer','blast_furnace_slag','water','fly_ash','coarse_aggregate',y]])\n",
        "    print(np.sqrt((np.sum(np.square(test_Y-y_pred)))/1028))\n",
        "    l=np.sqrt((np.sum(np.square(test_Y-y_pred)))/1028)\n",
        "    if l<rseleast:\n",
        "      rseleast=l\n",
        "      z=y\n",
        "print(\"Feature_idx\",z)\n",
        "print(\"RSE\",rseleast)"
      ],
      "execution_count": 0,
      "outputs": [
        {
          "output_type": "stream",
          "text": [
            "5.624563660989633\n",
            "Feature_idx fine_aggregate \n",
            "RSE 5.624563660989633\n"
          ],
          "name": "stdout"
        }
      ]
    },
    {
      "cell_type": "code",
      "metadata": {
        "id": "EIbcnCBnUZzb",
        "colab_type": "code",
        "outputId": "9f4a6e05-eff4-42f1-fabf-d96374ad5066",
        "colab": {
          "base_uri": "https://localhost:8080/",
          "height": 51
        }
      },
      "source": [
        "from sklearn.linear_model import LinearRegression\n",
        "rseleast=100000\n",
        "z=0\n",
        "\n",
        "for y in train_X:\n",
        "  train_Xs=train_X\n",
        "  test_Xs=test_X\n",
        "  reg_model=LinearRegression()\n",
        "  if(y!='cement' and y!='age' and y!='superplasticizer' and y!='blast_furnace_slag'and y!='water' and y!='fly_ash' and y!='coarse_aggregate' and y!='fine_aggregate '):\n",
        "    reg_model.fit(train_Xs[['cement','age','superplasticizer','blast_furnace_slag','water','fly_ash','coarse_aggregate','fine_aggregate ',y]],train_Y)\n",
        "    y_pred=reg_model.predict(test_Xs[['cement','age','superplasticizer','blast_furnace_slag','water','fly_ash','coarse_aggregate','fine_aggregate ',y]])\n",
        "    print(np.sqrt((np.sum(np.square(test_Y-y_pred)))/1028))\n",
        "    l=np.sqrt((np.sum(np.square(test_Y-y_pred)))/1028)\n",
        "    if l<rseleast:\n",
        "      rseleast=l\n",
        "      z=y\n",
        "print(\"Feature_idx\",z)\n",
        "print(\"RSE\",rseleast)"
      ],
      "execution_count": 0,
      "outputs": [
        {
          "output_type": "stream",
          "text": [
            "Feature_idx 0\n",
            "RSE 100000\n"
          ],
          "name": "stdout"
        }
      ]
    }
  ]
}