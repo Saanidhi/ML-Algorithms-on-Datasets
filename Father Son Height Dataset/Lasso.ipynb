{
  "nbformat": 4,
  "nbformat_minor": 0,
  "metadata": {
    "colab": {
      "name": "Lasso.ipynb",
      "version": "0.3.2",
      "provenance": [],
      "collapsed_sections": []
    },
    "kernelspec": {
      "name": "python3",
      "display_name": "Python 3"
    }
  },
  "cells": [
    {
      "cell_type": "code",
      "metadata": {
        "id": "syK_Arcx0kke",
        "colab_type": "code",
        "colab": {}
      },
      "source": [
        "import pandas as pd \n",
        "import numpy as np \n",
        "import matplotlib.pyplot as plt\n",
        "\n",
        "%matplotlib inline  \n",
        "import math \n",
        "\n",
        "# the library we will use to create the model \n",
        "from sklearn.preprocessing import PolynomialFeatures\n",
        "from sklearn import linear_model\n",
        "\n",
        "\n",
        "from sklearn.model_selection import train_test_split\n",
        "from sklearn import metrics "
      ],
      "execution_count": 0,
      "outputs": []
    },
    {
      "cell_type": "code",
      "metadata": {
        "id": "sAGJvr4w0-lc",
        "colab_type": "code",
        "colab": {}
      },
      "source": [
        "traindata=pd.read_csv(\"train.csv\")\n",
        "testdata=pd.read_csv(\"test.csv\")"
      ],
      "execution_count": 0,
      "outputs": []
    },
    {
      "cell_type": "code",
      "metadata": {
        "id": "IO6kvI2A1CYX",
        "colab_type": "code",
        "colab": {}
      },
      "source": [
        "x_train=traindata['Father'].values.reshape(-1,1)\n",
        "y_train=traindata['Son'].values.reshape(-1,1)\n",
        "x_test=testdata['Father'].values.reshape(-1,1)\n",
        "y_test=testdata['Son'].values.reshape(-1,1)\n"
      ],
      "execution_count": 0,
      "outputs": []
    },
    {
      "cell_type": "code",
      "metadata": {
        "id": "VvPlBrJb1QID",
        "colab_type": "code",
        "colab": {}
      },
      "source": [
        "from sklearn.metrics import mean_squared_error\n",
        "from math import sqrt"
      ],
      "execution_count": 0,
      "outputs": []
    },
    {
      "cell_type": "code",
      "metadata": {
        "id": "IpfrmvWh1IeX",
        "colab_type": "code",
        "outputId": "067538cc-c70b-4367-bc5f-b26cf3f05e96",
        "colab": {
          "base_uri": "https://localhost:8080/",
          "height": 105
        }
      },
      "source": [
        "polyreg = PolynomialFeatures(degree=10)\n",
        "x_modified_train = polyreg.fit_transform(x_train)\n",
        "x_modified_test = polyreg.fit_transform(x_test)\n",
        "model= linear_model.Lasso()\n",
        "model.fit(x_modified_train, y_train)\n",
        "y_predicted_test=model.predict(x_modified_test)\n",
        "y_predicted_train=model.predict(x_modified_train)\n",
        "a=sqrt(mean_squared_error(y_train, y_predicted_train))\n",
        "b=sqrt(mean_squared_error(y_test, y_predicted_test))\n",
        "print(a)\n",
        "print(b)"
      ],
      "execution_count": 0,
      "outputs": [
        {
          "output_type": "stream",
          "text": [
            "1.4229145804844425\n",
            "1.5070433812136228\n"
          ],
          "name": "stdout"
        },
        {
          "output_type": "stream",
          "text": [
            "/usr/local/lib/python3.6/dist-packages/sklearn/linear_model/coordinate_descent.py:475: ConvergenceWarning: Objective did not converge. You might want to increase the number of iterations. Duality gap: 20.266709835806072, tolerance: 0.009051799999999994\n",
            "  positive)\n"
          ],
          "name": "stderr"
        }
      ]
    }
  ]
}