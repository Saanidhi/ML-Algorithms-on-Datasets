{
  "nbformat": 4,
  "nbformat_minor": 0,
  "metadata": {
    "colab": {
      "name": "MinibatchGD.ipynb",
      "version": "0.3.2",
      "provenance": [],
      "collapsed_sections": []
    },
    "kernelspec": {
      "name": "python3",
      "display_name": "Python 3"
    }
  },
  "cells": [
    {
      "cell_type": "code",
      "metadata": {
        "id": "NvmycObhmrxp",
        "colab_type": "code",
        "colab": {}
      },
      "source": [
        "import pandas as pd \n",
        "import numpy as np \n",
        "import matplotlib.pyplot as plt\n",
        "# Remember what this line did?\n",
        "%matplotlib inline  \n",
        "import math \n",
        "\n",
        "# the library we will use to create the model \n",
        "from sklearn.linear_model import SGDRegressor\n",
        "from sklearn.ensemble import RandomForestRegressor\n",
        "\n",
        "from sklearn.model_selection import train_test_split\n",
        "from sklearn import metrics "
      ],
      "execution_count": 0,
      "outputs": []
    },
    {
      "cell_type": "code",
      "metadata": {
        "id": "hc-h5N9HnUvm",
        "colab_type": "code",
        "colab": {}
      },
      "source": [
        "dataset=pd.read_csv(\"father_son_heights.csv\")"
      ],
      "execution_count": 0,
      "outputs": []
    },
    {
      "cell_type": "code",
      "metadata": {
        "id": "G4po1fsEnZl-",
        "colab_type": "code",
        "colab": {}
      },
      "source": [
        "x = dataset['Father'].values.reshape(-1,1)\n",
        "y = dataset['Son'].values.reshape(-1,1)"
      ],
      "execution_count": 0,
      "outputs": []
    },
    {
      "cell_type": "code",
      "metadata": {
        "id": "inp3wfLsnfOX",
        "colab_type": "code",
        "outputId": "85d0ae40-fb7b-4996-ee59-2477ed109f61",
        "colab": {
          "base_uri": "https://localhost:8080/",
          "height": 295
        }
      },
      "source": [
        "plt.scatter(x,y)\n",
        "plt.title('Scatter plot')\n",
        "plt.xlabel('Father height(x)')\n",
        "plt.ylabel('Son height(y)')\n",
        "fig=plt.gcf()\n",
        "plt.show()"
      ],
      "execution_count": 0,
      "outputs": [
        {
          "output_type": "display_data",
          "data": {
            "image/png": "[encoded data removed]",
            "text/plain": [
              "<Figure size 432x288 with 1 Axes>"
            ]
          },
          "metadata": {
            "tags": []
          }
        }
      ]
    },
    {
      "cell_type": "code",
      "metadata": {
        "id": "6ZURmgOst5xn",
        "colab_type": "code",
        "colab": {}
      },
      "source": [
        "x_train,x_test,y_train,y_test=train_test_split(x,y,test_size=0.3)"
      ],
      "execution_count": 0,
      "outputs": []
    },
    {
      "cell_type": "code",
      "metadata": {
        "id": "Jq46Cuewni9v",
        "colab_type": "code",
        "colab": {}
      },
      "source": [
        "def create_mini_batches(X, y, batch_size): \n",
        "    mini_batches = [] \n",
        "    data = np.hstack((X, y)) \n",
        "    np.random.shuffle(data) \n",
        "    n_minibatches = data.shape[0] // batch_size \n",
        "    i = 0\n",
        "  \n",
        "    for i in range(n_minibatches + 1): \n",
        "        mini_batch = data[i * batch_size:(i + 1)*batch_size, :] \n",
        "        X_mini = mini_batch[:, :-1] \n",
        "        Y_mini = mini_batch[:, -1].reshape((-1, 1)) \n",
        "        mini_batches.append((X_mini, Y_mini)) \n",
        "    if data.shape[0] % batch_size != 0: \n",
        "        mini_batch = data[i * batch_size:data.shape[0]] \n",
        "        X_mini = mini_batch[:, :-1] \n",
        "        Y_mini = mini_batch[:, -1].reshape((-1, 1)) \n",
        "        mini_batches.append((X_mini, Y_mini)) \n",
        "    return mini_batches "
      ],
      "execution_count": 0,
      "outputs": []
    },
    {
      "cell_type": "code",
      "metadata": {
        "id": "bLg7rbf3t06P",
        "colab_type": "code",
        "colab": {}
      },
      "source": [
        "mini_batches=create_mini_batches(x_train,y_train,32)"
      ],
      "execution_count": 0,
      "outputs": []
    },
    {
      "cell_type": "code",
      "metadata": {
        "id": "KJ5Dx6bQt-g2",
        "colab_type": "code",
        "outputId": "a7988cb6-5203-48cd-b0c9-9a28ea51b2f8",
        "colab": {
          "base_uri": "https://localhost:8080/",
          "height": 68
        }
      },
      "source": [
        "from sklearn.linear_model import SGDRegressor\n",
        "sgd_model=SGDRegressor(max_iter=5000,tol=1e-3,eta0=2,loss=\"huber\",early_stopping=False)\n",
        "for minibatch in mini_batches:\n",
        "  x_mini, y_mini = minibatch \n",
        "  y_mini=y_mini.ravel()\n",
        "  sgd_model.partial_fit(x_mini,y_mini)\n",
        "from sklearn.metrics import r2_score, mean_squared_error\n",
        "y_pred=sgd_model.predict(x_test)\n",
        "print(r2_score(y_test,y_pred))\n",
        "print(mean_squared_error(y_test,y_pred))\n",
        "print(np.sqrt((np.sum(np.square(y_test-y_pred)))/1076))"
      ],
      "execution_count": 0,
      "outputs": [
        {
          "output_type": "stream",
          "text": [
            "-0.2663485963006065\n",
            "9.421142704049451\n",
            "39.12080385076667\n"
          ],
          "name": "stdout"
        }
      ]
    },
    {
      "cell_type": "code",
      "metadata": {
        "id": "I_2whLRUul_G",
        "colab_type": "code",
        "colab": {}
      },
      "source": [
        "z=(np.linspace(min(x),max(x),50)).reshape(-1,1)\n",
        "ypred=sgd_model.predict(z)"
      ],
      "execution_count": 0,
      "outputs": []
    },
    {
      "cell_type": "code",
      "metadata": {
        "id": "EWoCZG-xuqvG",
        "colab_type": "code",
        "outputId": "4e6a8c92-eb5f-42da-8a85-01d04d777a4e",
        "colab": {
          "base_uri": "https://localhost:8080/",
          "height": 283
        }
      },
      "source": [
        "plt.scatter(x,y)\n",
        "plt.xlabel('Father height(x)')\n",
        "plt.ylabel('Son height(y)')\n",
        "plt.plot(z,ypred)\n",
        "fig2=plt.gcf()\n",
        "plt.show()\n",
        "fig2.savefig('/users/saanidhi/Desktop/minibatch.png')"
      ],
      "execution_count": 0,
      "outputs": [
        {
          "output_type": "display_data",
          "data": {
            "image/png": "[encoded data removed]",
            "text/plain": [
              "<Figure size 432x288 with 1 Axes>"
            ]
          },
          "metadata": {
            "tags": []
          }
        }
      ]
    },
    {
      "cell_type": "code",
      "metadata": {
        "id": "hm4Lzc1qwoj_",
        "colab_type": "code",
        "outputId": "8aef860f-4f9a-4fb2-a435-0166aa359881",
        "colab": {
          "base_uri": "https://localhost:8080/",
          "height": 51
        }
      },
      "source": [
        "#printing and writing coefficient and intercept values onto a text file\n",
        "print('Predicted coeffient value is:' ,sgd_model.coef_)\n",
        "\n",
        "print('Predicted intercept value is:', sgd_model.intercept_)"
      ],
      "execution_count": 0,
      "outputs": [
        {
          "output_type": "stream",
          "text": [
            "Predicted coeffient value is: [0.99059999]\n",
            "Predicted intercept value is: [0.06242801]\n"
          ],
          "name": "stdout"
        }
      ]
    },
    {
      "cell_type": "code",
      "metadata": {
        "id": "0HBkXwpDMSa-",
        "colab_type": "code",
        "outputId": "1aab9e2c-54cc-4525-d964-4f387df80f45",
        "colab": {
          "base_uri": "https://localhost:8080/",
          "height": 68
        }
      },
      "source": [
        "print(np.sum(y_test-y_pred))\n",
        "print(np.square(np.sum(y_test-y_pred)))\n",
        "print(np.sum(np.square(y_test-y_pred)))"
      ],
      "execution_count": 0,
      "outputs": [
        {
          "output_type": "stream",
          "text": [
            "143027.662605584\n",
            "20456912270.416767\n",
            "1646750.5282688523\n"
          ],
          "name": "stdout"
        }
      ]
    },
    {
      "cell_type": "code",
      "metadata": {
        "id": "TMwL0m6iMVqj",
        "colab_type": "code",
        "colab": {}
      },
      "source": [
        ""
      ],
      "execution_count": 0,
      "outputs": []
    }
  ]
}