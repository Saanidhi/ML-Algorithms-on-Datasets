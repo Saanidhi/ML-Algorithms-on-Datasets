{
  "nbformat": 4,
  "nbformat_minor": 0,
  "metadata": {
    "colab": {
      "name": "SGD",
      "version": "0.3.2",
      "provenance": [],
      "collapsed_sections": []
    },
    "kernelspec": {
      "name": "python3",
      "display_name": "Python 3"
    }
  },
  "cells": [
    {
      "cell_type": "code",
      "metadata": {
        "id": "WqF9NZfbUiNc",
        "colab_type": "code",
        "colab": {}
      },
      "source": [
        "import pandas as pd \n",
        "import numpy as np \n",
        "import matplotlib.pyplot as plt\n",
        "# Remember what this line did?\n",
        "%matplotlib inline  \n",
        "import math \n",
        "\n",
        "# the library we will use to create the model \n",
        "from sklearn.linear_model import SGDRegressor\n",
        "from sklearn.ensemble import RandomForestRegressor\n",
        "\n",
        "from sklearn.model_selection import train_test_split\n",
        "from sklearn import metrics "
      ],
      "execution_count": 0,
      "outputs": []
    },
    {
      "cell_type": "code",
      "metadata": {
        "id": "_C-W3eJHjdwj",
        "colab_type": "code",
        "colab": {}
      },
      "source": [
        "data=pd.read_csv(\"father_son_heights.csv\")"
      ],
      "execution_count": 0,
      "outputs": []
    },
    {
      "cell_type": "code",
      "metadata": {
        "id": "FKQPq_m0V6_W",
        "colab_type": "code",
        "colab": {}
      },
      "source": [
        "x = dataset['Father'].values.reshape(-1,1)\n",
        "y = dataset['Son'].values.reshape(-1,1)"
      ],
      "execution_count": 0,
      "outputs": []
    },
    {
      "cell_type": "code",
      "metadata": {
        "id": "JUyg4OL8jdB8",
        "colab_type": "code",
        "colab": {}
      },
      "source": [
        ""
      ],
      "execution_count": 0,
      "outputs": []
    },
    {
      "cell_type": "code",
      "metadata": {
        "id": "r93lRwlxWDUn",
        "colab_type": "code",
        "colab": {}
      },
      "source": [
        "x_train,x_test,y_train,y_test=train_test_split(x,y,test_size=0.3)"
      ],
      "execution_count": 0,
      "outputs": []
    },
    {
      "cell_type": "code",
      "metadata": {
        "id": "SF2j_c8HWJFf",
        "colab_type": "code",
        "outputId": "2e0030ba-fe1b-42db-e01c-5dbee0ed743b",
        "colab": {
          "base_uri": "https://localhost:8080/",
          "height": 295
        }
      },
      "source": [
        "plt.scatter(x,y)\n",
        "plt.title('Scatter plot')\n",
        "plt.xlabel('Father height(x)')\n",
        "plt.ylabel('Son height(y)')\n",
        "fig=plt.gcf()\n",
        "plt.show()"
      ],
      "execution_count": 0,
      "outputs": [
        {
          "output_type": "display_data",
          "data": {
            "image/png": "[encoded data removed]",
            "text/plain": [
              "<Figure size 432x288 with 1 Axes>"
            ]
          },
          "metadata": {
            "tags": []
          }
        }
      ]
    },
    {
      "cell_type": "code",
      "metadata": {
        "id": "HFDU8UFxWNR-",
        "colab_type": "code",
        "outputId": "c05dc20c-c1e2-4b36-8ad6-32cfc7f2c8e8",
        "colab": {
          "base_uri": "https://localhost:8080/",
          "height": 190
        }
      },
      "source": [
        "regr = RandomForestRegressor(max_depth=3, random_state=0,n_estimators=100)\n",
        "regr.fit(x_train, y_train)  "
      ],
      "execution_count": 0,
      "outputs": [
        {
          "output_type": "stream",
          "text": [
            "/usr/local/lib/python3.6/dist-packages/ipykernel_launcher.py:2: DataConversionWarning: A column-vector y was passed when a 1d array was expected. Please change the shape of y to (n_samples,), for example using ravel().\n",
            "  \n"
          ],
          "name": "stderr"
        },
        {
          "output_type": "execute_result",
          "data": {
            "text/plain": [
              "RandomForestRegressor(bootstrap=True, criterion='mse', max_depth=3,\n",
              "                      max_features='auto', max_leaf_nodes=None,\n",
              "                      min_impurity_decrease=0.0, min_impurity_split=None,\n",
              "                      min_samples_leaf=1, min_samples_split=2,\n",
              "                      min_weight_fraction_leaf=0.0, n_estimators=100,\n",
              "                      n_jobs=None, oob_score=False, random_state=0, verbose=0,\n",
              "                      warm_start=False)"
            ]
          },
          "metadata": {
            "tags": []
          },
          "execution_count": 24
        }
      ]
    },
    {
      "cell_type": "code",
      "metadata": {
        "id": "ebUgAPk4XOgI",
        "colab_type": "code",
        "colab": {}
      },
      "source": [
        "y_predicted=regr.predict(x_test)"
      ],
      "execution_count": 0,
      "outputs": []
    },
    {
      "cell_type": "code",
      "metadata": {
        "id": "Uzf_WnpYaXbv",
        "colab_type": "code",
        "outputId": "fdea783f-4502-42eb-85e4-069b6d9065ad",
        "colab": {
          "base_uri": "https://localhost:8080/",
          "height": 68
        }
      },
      "source": [
        "from sklearn.metrics import r2_score, mean_squared_error\n",
        "print(r2_score(y_test,y_predicted))\n",
        "print(mean_squared_error(y_test,y_predicted))\n",
        "print(np.sqrt((np.sum(np.square(y_test-y_predicted)))/1076))"
      ],
      "execution_count": 0,
      "outputs": [
        {
          "output_type": "stream",
          "text": [
            "0.18312649695512895\n",
            "6.721734383527282\n",
            "31.71475882373925\n"
          ],
          "name": "stdout"
        }
      ]
    },
    {
      "cell_type": "code",
      "metadata": {
        "id": "QpGsPwGacsSF",
        "colab_type": "code",
        "outputId": "4c832834-8ed3-47b7-eb65-4e537da80f2f",
        "colab": {
          "base_uri": "https://localhost:8080/",
          "height": 68
        }
      },
      "source": [
        "from sklearn.linear_model import SGDRegressor\n",
        "sgd_model=SGDRegressor(max_iter=5000,tol=1e-3,eta0=2,loss=\"huber\",early_stopping=False)\n",
        "y_train=y_train.ravel()\n",
        "sgd_model.fit(x_train,y_train)\n",
        "y_pred=sgd_model.predict(x_test)\n",
        "print(r2_score(y_test,y_pred))\n",
        "print(mean_squared_error(y_test,y_pred))\n",
        "print(np.sqrt((np.sum(np.square(y_test-y_pred)))/1076))"
      ],
      "execution_count": 0,
      "outputs": [
        {
          "output_type": "stream",
          "text": [
            "-0.46558431385917154\n",
            "12.059723369291731\n",
            "42.72369568963076\n"
          ],
          "name": "stdout"
        }
      ]
    },
    {
      "cell_type": "code",
      "metadata": {
        "id": "JsdUYprci6eL",
        "colab_type": "code",
        "colab": {}
      },
      "source": [
        "z=(np.linspace(min(x),max(x),50)).reshape(-1,1)\n",
        "ypred=sgd_model.predict(z)"
      ],
      "execution_count": 0,
      "outputs": []
    },
    {
      "cell_type": "code",
      "metadata": {
        "id": "Vw35bIComOLm",
        "colab_type": "code",
        "outputId": "70098eeb-7d93-449d-dffd-c3ae5e11db3a",
        "colab": {
          "base_uri": "https://localhost:8080/",
          "height": 283
        }
      },
      "source": [
        "plt.scatter(x,y)\n",
        "plt.xlabel('Father height(x)')\n",
        "plt.ylabel('Son height(y)')\n",
        "plt.plot(z,ypred)\n",
        "fig2=plt.gcf()\n",
        "plt.show()\n",
        "fig2.savefig('/users/saanidhi/Desktop/sgd.png')"
      ],
      "execution_count": 0,
      "outputs": [
        {
          "output_type": "display_data",
          "data": {
            "image/png": "[encoded data removed]",
            "text/plain": [
              "<Figure size 432x288 with 1 Axes>"
            ]
          },
          "metadata": {
            "tags": []
          }
        }
      ]
    },
    {
      "cell_type": "code",
      "metadata": {
        "id": "mDRAjMX8mmPe",
        "colab_type": "code",
        "outputId": "0a8f0c73-95b2-4deb-c3b4-9b6f2298ac4d",
        "colab": {
          "base_uri": "https://localhost:8080/",
          "height": 51
        }
      },
      "source": [
        "#printing and writing coefficient and intercept values onto a text file\n",
        "print('Predicted coeffient value is:' ,sgd_model.coef_)\n",
        "\n",
        "print('Predicted intercept value is:', sgd_model.intercept_)"
      ],
      "execution_count": 0,
      "outputs": [
        {
          "output_type": "stream",
          "text": [
            "Predicted coeffient value is: [0.96223499]\n",
            "Predicted intercept value is: [1.42804095]\n"
          ],
          "name": "stdout"
        }
      ]
    },
    {
      "cell_type": "code",
      "metadata": {
        "id": "_o2Sx6Ax-Iyj",
        "colab_type": "code",
        "outputId": "b292473e-73e1-4dee-ebcf-f2771ba44707",
        "colab": {
          "base_uri": "https://localhost:8080/",
          "height": 51
        }
      },
      "source": [
        "print(np.sum(np.square(y_test-y_pred)))\n"
      ],
      "execution_count": 0,
      "outputs": [
        {
          "output_type": "stream",
          "text": [
            "1964038.050557067\n",
            "324\n"
          ],
          "name": "stdout"
        }
      ]
    }
  ]
}