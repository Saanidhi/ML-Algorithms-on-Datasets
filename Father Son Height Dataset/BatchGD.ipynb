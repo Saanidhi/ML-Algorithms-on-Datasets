{
  "nbformat": 4,
  "nbformat_minor": 0,
  "metadata": {
    "colab": {
      "name": "BatchGD.ipynb",
      "version": "0.3.2",
      "provenance": [],
      "collapsed_sections": []
    },
    "kernelspec": {
      "name": "python3",
      "display_name": "Python 3"
    }
  },
  "cells": [
    {
      "cell_type": "code",
      "metadata": {
        "id": "4f3X8rJFpRL4",
        "colab_type": "code",
        "colab": {}
      },
      "source": [
        "import pandas as pd \n",
        "import numpy as np \n",
        "import matplotlib.pyplot as plt\n",
        "# Remember what this line did?\n",
        "%matplotlib inline  \n",
        "import math \n",
        "\n",
        "# the library we will use to create the model \n",
        "from sklearn.linear_model import SGDRegressor\n",
        "from sklearn.ensemble import RandomForestRegressor\n",
        "\n",
        "from sklearn.model_selection import train_test_split\n",
        "from sklearn import metrics "
      ],
      "execution_count": 0,
      "outputs": []
    },
    {
      "cell_type": "code",
      "metadata": {
        "id": "3C9zly2kptcD",
        "colab_type": "code",
        "colab": {}
      },
      "source": [
        "dataset=pd.read_csv(\"father_son_heights.csv\")"
      ],
      "execution_count": 0,
      "outputs": []
    },
    {
      "cell_type": "code",
      "metadata": {
        "id": "3tyMWZDSpxED",
        "colab_type": "code",
        "colab": {}
      },
      "source": [
        "x = dataset['Father'].values.reshape(-1,1)\n",
        "y = dataset['Son'].values.reshape(-1,1)"
      ],
      "execution_count": 0,
      "outputs": []
    },
    {
      "cell_type": "code",
      "metadata": {
        "id": "cjLjeZSAp2ZD",
        "colab_type": "code",
        "colab": {}
      },
      "source": [
        "x_train,x_test,y_train,y_test=train_test_split(x,y,test_size=0.3)"
      ],
      "execution_count": 0,
      "outputs": []
    },
    {
      "cell_type": "code",
      "metadata": {
        "id": "1K-ei5Idp9dj",
        "colab_type": "code",
        "outputId": "71c3e010-8bfc-4271-98b8-506d484af9ed",
        "colab": {
          "base_uri": "https://localhost:8080/",
          "height": 295
        }
      },
      "source": [
        "plt.scatter(x,y)\n",
        "plt.title('Scatter plot')\n",
        "plt.xlabel('Father height(x)')\n",
        "plt.ylabel('Son height(y)')\n",
        "fig=plt.gcf()\n",
        "plt.show()\n",
        "fig2.savefig('/users/saanidhi/Desktop/gradiebtdescentscatter.png')"
      ],
      "execution_count": 0,
      "outputs": [
        {
          "output_type": "display_data",
          "data": {
            "image/png": "[encoded data removed]",
            "text/plain": [
              "<Figure size 432x288 with 1 Axes>"
            ]
          },
          "metadata": {
            "tags": []
          }
        }
      ]
    },
    {
      "cell_type": "code",
      "metadata": {
        "id": "JeydIiKSqFEc",
        "colab_type": "code",
        "colab": {}
      },
      "source": [
        "def create_mini_batches(X, y, batch_size): \n",
        "    mini_batches = [] \n",
        "    data = np.hstack((X, y)) \n",
        "    np.random.shuffle(data) \n",
        "    n_minibatches = data.shape[0] // batch_size \n",
        "    i = 0\n",
        "  \n",
        "    for i in range(n_minibatches + 1): \n",
        "        mini_batch = data[i * batch_size:(i + 1)*batch_size, :] \n",
        "        X_mini = mini_batch[:, :-1] \n",
        "        Y_mini = mini_batch[:, -1].reshape((-1, 1)) \n",
        "        mini_batches.append((X_mini, Y_mini)) \n",
        "    if data.shape[0] % batch_size != 0: \n",
        "        mini_batch = data[i * batch_size:data.shape[0]] \n",
        "        X_mini = mini_batch[:, :-1] \n",
        "        Y_mini = mini_batch[:, -1].reshape((-1, 1)) \n",
        "        mini_batches.append((X_mini, Y_mini)) \n",
        "    return mini_batches "
      ],
      "execution_count": 0,
      "outputs": []
    },
    {
      "cell_type": "code",
      "metadata": {
        "id": "kecfO697qUAk",
        "colab_type": "code",
        "colab": {}
      },
      "source": [
        "mini_batches=create_mini_batches(x_train,y_train,1078)"
      ],
      "execution_count": 0,
      "outputs": []
    },
    {
      "cell_type": "code",
      "metadata": {
        "id": "huPeTj8BqrE1",
        "colab_type": "code",
        "outputId": "d9b8076f-1558-41a9-f306-76504cc9ff29",
        "colab": {
          "base_uri": "https://localhost:8080/",
          "height": 68
        }
      },
      "source": [
        "from sklearn.linear_model import SGDRegressor\n",
        "sgd_model=SGDRegressor(max_iter=5000,tol=1e-3,eta0=2,loss=\"huber\",early_stopping=False)\n",
        "for minibatch in mini_batches:\n",
        "  x_mini, y_mini = minibatch \n",
        "  y_mini=y_mini.ravel()\n",
        "  sgd_model.partial_fit(x_mini,y_mini)\n",
        "from sklearn.metrics import r2_score, mean_squared_error\n",
        "y_pred=sgd_model.predict(x_test)\n",
        "print(r2_score(y_test,y_pred))\n",
        "print(mean_squared_error(y_test,y_pred))\n",
        "print(np.sqrt((np.sum(np.square(y_test-y_pred)))/1076))"
      ],
      "execution_count": 0,
      "outputs": [
        {
          "output_type": "stream",
          "text": [
            "-0.8616954871517799\n",
            "12.822614766593711\n",
            "43.29316457611712\n"
          ],
          "name": "stdout"
        }
      ]
    },
    {
      "cell_type": "code",
      "metadata": {
        "id": "oYkfZL4vrgv-",
        "colab_type": "code",
        "colab": {}
      },
      "source": [
        "z=(np.linspace(min(x),max(x),50)).reshape(-1,1)\n",
        "ypred=sgd_model.predict(z)"
      ],
      "execution_count": 0,
      "outputs": []
    },
    {
      "cell_type": "code",
      "metadata": {
        "id": "yBBSVnGxwOsP",
        "colab_type": "code",
        "outputId": "31950dcb-5400-44f5-95ef-46ee2e673a1f",
        "colab": {
          "base_uri": "https://localhost:8080/",
          "height": 283
        }
      },
      "source": [
        "plt.scatter(x,y)\n",
        "plt.xlabel('Father height(x)')\n",
        "plt.ylabel('Son height(y)')\n",
        "plt.plot(z,ypred)\n",
        "fig2=plt.gcf()\n",
        "plt.show()"
      ],
      "execution_count": 0,
      "outputs": [
        {
          "output_type": "display_data",
          "data": {
            "image/png": "[encoded data removed]",
            "text/plain": [
              "<Figure size 432x288 with 1 Axes>"
            ]
          },
          "metadata": {
            "tags": []
          }
        }
      ]
    },
    {
      "cell_type": "code",
      "metadata": {
        "id": "W-AdAVnhwsM4",
        "colab_type": "code",
        "outputId": "152a109d-be42-45e1-ba55-2be458ef5151",
        "colab": {
          "base_uri": "https://localhost:8080/",
          "height": 51
        }
      },
      "source": [
        "#printing and writing coefficient and intercept values onto a text file\n",
        "print('Predicted coeffient value is:' ,sgd_model.coef_)\n",
        "\n",
        "print('Predicted intercept value is:', sgd_model.intercept_)"
      ],
      "execution_count": 0,
      "outputs": [
        {
          "output_type": "stream",
          "text": [
            "Predicted coeffient value is: [0.98088486]\n",
            "Predicted intercept value is: [0.06532175]\n"
          ],
          "name": "stdout"
        }
      ]
    },
    {
      "cell_type": "code",
      "metadata": {
        "id": "pbV9fkk_KWxI",
        "colab_type": "code",
        "outputId": "d1168a6b-3e74-4017-b3be-509172803e46",
        "colab": {
          "base_uri": "https://localhost:8080/",
          "height": 68
        }
      },
      "source": [
        "print(np.sum(y_test-y_pred))\n",
        "print(np.square(np.sum(y_test-y_pred)))\n",
        "print(np.sum(np.square(y_test-y_pred)))\n"
      ],
      "execution_count": 0,
      "outputs": [
        {
          "output_type": "stream",
          "text": [
            "242262.19005544396\n",
            "58690968730.46005\n",
            "2016744.754539884\n"
          ],
          "name": "stdout"
        }
      ]
    },
    {
      "cell_type": "code",
      "metadata": {
        "id": "WZsUdKtELsoQ",
        "colab_type": "code",
        "outputId": "7ec90c59-2dfc-49fe-a9a0-55c29a485d28",
        "colab": {
          "base_uri": "https://localhost:8080/",
          "height": 34
        }
      },
      "source": [
        "count=0\n",
        "for i in y_test:\n",
        "  count+=1\n",
        "print(count)"
      ],
      "execution_count": 0,
      "outputs": [
        {
          "output_type": "stream",
          "text": [
            "324\n"
          ],
          "name": "stdout"
        }
      ]
    }
  ]
}