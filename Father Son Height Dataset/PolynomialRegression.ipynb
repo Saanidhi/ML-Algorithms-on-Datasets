{
  "nbformat": 4,
  "nbformat_minor": 0,
  "metadata": {
    "colab": {
      "name": "PolynomialRegression.ipynb",
      "version": "0.3.2",
      "provenance": [],
      "collapsed_sections": []
    },
    "kernelspec": {
      "name": "python3",
      "display_name": "Python 3"
    }
  },
  "cells": [
    {
      "cell_type": "code",
      "metadata": {
        "id": "xe1alqmMcnKv",
        "colab_type": "code",
        "colab": {}
      },
      "source": [
        "import pandas as pd \n",
        "import numpy as np \n",
        "import matplotlib.pyplot as plt\n",
        "\n",
        "%matplotlib inline  \n",
        "import math \n",
        "\n",
        "# the library we will use to create the model \n",
        "from sklearn.preprocessing import PolynomialFeatures\n",
        "from sklearn import linear_model\n",
        "\n",
        "\n",
        "from sklearn.model_selection import train_test_split\n",
        "from sklearn import metrics "
      ],
      "execution_count": 0,
      "outputs": []
    },
    {
      "cell_type": "code",
      "metadata": {
        "id": "GndmcbaCevRo",
        "colab_type": "code",
        "colab": {}
      },
      "source": [
        "traindata=pd.read_csv(\"train.csv\")\n",
        "testdata=pd.read_csv(\"test.csv\")"
      ],
      "execution_count": 0,
      "outputs": []
    },
    {
      "cell_type": "code",
      "metadata": {
        "id": "sGCtTETJfIW5",
        "colab_type": "code",
        "colab": {}
      },
      "source": [
        "x_train=traindata['Father'].values.reshape(-1,1)\n",
        "y_train=traindata['Son'].values.reshape(-1,1)\n",
        "x_test=testdata['Father'].values.reshape(-1,1)\n",
        "y_test=testdata['Son'].values.reshape(-1,1)\n"
      ],
      "execution_count": 0,
      "outputs": []
    },
    {
      "cell_type": "code",
      "metadata": {
        "id": "7FjZhYaXgvFd",
        "colab_type": "code",
        "outputId": "72c7c7d9-244e-4d23-ce89-12533a13a68c",
        "colab": {
          "base_uri": "https://localhost:8080/",
          "height": 295
        }
      },
      "source": [
        "plt.scatter(x_train,y_train)\n",
        "plt.title('Scatter plot')\n",
        "plt.xlabel('Father height(x)')\n",
        "plt.ylabel('Son height(y)')\n",
        "fig=plt.gcf()\n",
        "plt.show()"
      ],
      "execution_count": 0,
      "outputs": [
        {
          "output_type": "display_data",
          "data": {
            "image/png": "[encoded data removed]",
            "text/plain": [
              "<Figure size 432x288 with 1 Axes>"
            ]
          },
          "metadata": {
            "tags": []
          }
        }
      ]
    },
    {
      "cell_type": "code",
      "metadata": {
        "id": "6ZuzXaEsg1lu",
        "colab_type": "code",
        "outputId": "7563ac32-7cc5-4318-f984-fb052be6b8fb",
        "colab": {
          "base_uri": "https://localhost:8080/",
          "height": 295
        }
      },
      "source": [
        "plt.scatter(x_test,y_test)\n",
        "plt.title('Scatter plot')\n",
        "plt.xlabel('Father height(x)')\n",
        "plt.ylabel('Son height(y)')\n",
        "fig=plt.gcf()\n",
        "plt.show()"
      ],
      "execution_count": 0,
      "outputs": [
        {
          "output_type": "display_data",
          "data": {
            "image/png": "[encoded data removed]",
            "text/plain": [
              "<Figure size 432x288 with 1 Axes>"
            ]
          },
          "metadata": {
            "tags": []
          }
        }
      ]
    },
    {
      "cell_type": "code",
      "metadata": {
        "id": "_sTiWDjvmevp",
        "colab_type": "code",
        "colab": {}
      },
      "source": [
        "from sklearn.metrics import mean_squared_error\n",
        "from math import sqrt\n",
        "trainerror=[]\n",
        "testerror=[]\n"
      ],
      "execution_count": 0,
      "outputs": []
    },
    {
      "cell_type": "code",
      "metadata": {
        "id": "s7ZTBdIzg7wu",
        "colab_type": "code",
        "colab": {}
      },
      "source": [
        "polyreg = PolynomialFeatures(degree=1)\n",
        "x_modified_train = polyreg.fit_transform(x_train)\n",
        "x_modified_test = polyreg.fit_transform(x_test)\n",
        "model1= linear_model.LinearRegression()\n",
        "model1.fit(x_modified_train, y_train)\n",
        "y_predicted_test=model1.predict(x_modified_test)\n",
        "y_predicted_train=model1.predict(x_modified_train)\n",
        "a=sqrt(mean_squared_error(y_train, y_predicted_train))\n",
        "b=sqrt(mean_squared_error(y_test, y_predicted_test))\n",
        "trainerror.append(a)\n",
        "testerror.append(b)\n"
      ],
      "execution_count": 0,
      "outputs": []
    },
    {
      "cell_type": "code",
      "metadata": {
        "id": "wBo7kbbIryNe",
        "colab_type": "code",
        "colab": {}
      },
      "source": [
        "polyreg = PolynomialFeatures(degree=2)\n",
        "x_modified_train = polyreg.fit_transform(x_train)\n",
        "x_modified_test = polyreg.fit_transform(x_test)\n",
        "model2= linear_model.LinearRegression()\n",
        "model2.fit(x_modified_train, y_train)\n",
        "y_predicted_test=model2.predict(x_modified_test)\n",
        "y_predicted_train=model2.predict(x_modified_train)\n",
        "a=sqrt(mean_squared_error(y_train, y_predicted_train))\n",
        "b=sqrt(mean_squared_error(y_test, y_predicted_test))\n",
        "trainerror.append(a)\n",
        "testerror.append(b)"
      ],
      "execution_count": 0,
      "outputs": []
    },
    {
      "cell_type": "code",
      "metadata": {
        "id": "UryUSYmfsBYo",
        "colab_type": "code",
        "colab": {}
      },
      "source": [
        "polyreg = PolynomialFeatures(degree=3)\n",
        "x_modified_train = polyreg.fit_transform(x_train)\n",
        "x_modified_test = polyreg.fit_transform(x_test)\n",
        "model3= linear_model.LinearRegression()\n",
        "model3.fit(x_modified_train, y_train)\n",
        "y_predicted_test=model3.predict(x_modified_test)\n",
        "y_predicted_train=model3.predict(x_modified_train)\n",
        "a=sqrt(mean_squared_error(y_train, y_predicted_train))\n",
        "b=sqrt(mean_squared_error(y_test, y_predicted_test))\n",
        "trainerror.append(a)\n",
        "testerror.append(b)"
      ],
      "execution_count": 0,
      "outputs": []
    },
    {
      "cell_type": "code",
      "metadata": {
        "id": "EUbg0JERsLGP",
        "colab_type": "code",
        "colab": {}
      },
      "source": [
        "polyreg = PolynomialFeatures(degree=4)\n",
        "x_modified_train = polyreg.fit_transform(x_train)\n",
        "x_modified_test = polyreg.fit_transform(x_test)\n",
        "model4= linear_model.LinearRegression()\n",
        "model4.fit(x_modified_train, y_train)\n",
        "y_predicted_test=model4.predict(x_modified_test)\n",
        "y_predicted_train=model4.predict(x_modified_train)\n",
        "a=sqrt(mean_squared_error(y_train, y_predicted_train))\n",
        "b=sqrt(mean_squared_error(y_test, y_predicted_test))\n",
        "trainerror.append(a)\n",
        "testerror.append(b)"
      ],
      "execution_count": 0,
      "outputs": []
    },
    {
      "cell_type": "code",
      "metadata": {
        "id": "pnfydrLEsOS3",
        "colab_type": "code",
        "colab": {}
      },
      "source": [
        "polyreg = PolynomialFeatures(degree=5)\n",
        "x_modified_train = polyreg.fit_transform(x_train)\n",
        "x_modified_test = polyreg.fit_transform(x_test)\n",
        "model5= linear_model.LinearRegression()\n",
        "model5.fit(x_modified_train, y_train)\n",
        "y_predicted_test=model5.predict(x_modified_test)\n",
        "y_predicted_train=model5.predict(x_modified_train)\n",
        "a=sqrt(mean_squared_error(y_train, y_predicted_train))\n",
        "b=sqrt(mean_squared_error(y_test, y_predicted_test))\n",
        "trainerror.append(a)\n",
        "testerror.append(b)"
      ],
      "execution_count": 0,
      "outputs": []
    },
    {
      "cell_type": "code",
      "metadata": {
        "id": "9AbUNuL6sPMf",
        "colab_type": "code",
        "colab": {}
      },
      "source": [
        "polyreg = PolynomialFeatures(degree=6)\n",
        "x_modified_train = polyreg.fit_transform(x_train)\n",
        "x_modified_test = polyreg.fit_transform(x_test)\n",
        "model6= linear_model.LinearRegression()\n",
        "model6.fit(x_modified_train, y_train)\n",
        "y_predicted_test=model6.predict(x_modified_test)\n",
        "y_predicted_train=model6.predict(x_modified_train)\n",
        "a=sqrt(mean_squared_error(y_train, y_predicted_train))\n",
        "b=sqrt(mean_squared_error(y_test, y_predicted_test))\n",
        "trainerror.append(a)\n",
        "testerror.append(b)"
      ],
      "execution_count": 0,
      "outputs": []
    },
    {
      "cell_type": "code",
      "metadata": {
        "id": "UlETnR8gsQOo",
        "colab_type": "code",
        "colab": {}
      },
      "source": [
        "polyreg = PolynomialFeatures(degree=7)\n",
        "x_modified_train = polyreg.fit_transform(x_train)\n",
        "x_modified_test = polyreg.fit_transform(x_test)\n",
        "model7= linear_model.LinearRegression()\n",
        "model7.fit(x_modified_train, y_train)\n",
        "y_predicted_test=model7.predict(x_modified_test)\n",
        "y_predicted_train=model7.predict(x_modified_train)\n",
        "a=sqrt(mean_squared_error(y_train, y_predicted_train))\n",
        "b=sqrt(mean_squared_error(y_test, y_predicted_test))\n",
        "trainerror.append(a)\n",
        "testerror.append(b)"
      ],
      "execution_count": 0,
      "outputs": []
    },
    {
      "cell_type": "code",
      "metadata": {
        "id": "8-MTZNvysRAQ",
        "colab_type": "code",
        "colab": {}
      },
      "source": [
        "polyreg = PolynomialFeatures(degree=8)\n",
        "x_modified_train = polyreg.fit_transform(x_train)\n",
        "x_modified_test = polyreg.fit_transform(x_test)\n",
        "model8= linear_model.LinearRegression()\n",
        "model8.fit(x_modified_train, y_train)\n",
        "y_predicted_test=model8.predict(x_modified_test)\n",
        "y_predicted_train=model8.predict(x_modified_train)\n",
        "a=sqrt(mean_squared_error(y_train, y_predicted_train))\n",
        "b=sqrt(mean_squared_error(y_test, y_predicted_test))\n",
        "trainerror.append(a)\n",
        "testerror.append(b)"
      ],
      "execution_count": 0,
      "outputs": []
    },
    {
      "cell_type": "code",
      "metadata": {
        "id": "mzHjD12_sRug",
        "colab_type": "code",
        "colab": {}
      },
      "source": [
        "polyreg = PolynomialFeatures(degree=9)\n",
        "x_modified_train = polyreg.fit_transform(x_train)\n",
        "x_modified_test = polyreg.fit_transform(x_test)\n",
        "model9= linear_model.LinearRegression()\n",
        "model9.fit(x_modified_train, y_train)\n",
        "y_predicted_test=model9.predict(x_modified_test)\n",
        "y_predicted_train=model9.predict(x_modified_train)\n",
        "a=sqrt(mean_squared_error(y_train, y_predicted_train))\n",
        "b=sqrt(mean_squared_error(y_test, y_predicted_test))\n",
        "trainerror.append(a)\n",
        "testerror.append(b)"
      ],
      "execution_count": 0,
      "outputs": []
    },
    {
      "cell_type": "code",
      "metadata": {
        "id": "bM9EyuqBsyHU",
        "colab_type": "code",
        "colab": {}
      },
      "source": [
        "polyreg = PolynomialFeatures(degree=10)\n",
        "x_modified_train = polyreg.fit_transform(x_train)\n",
        "x_modified_test = polyreg.fit_transform(x_test)\n",
        "model0= linear_model.LinearRegression()\n",
        "model0.fit(x_modified_train, y_train)\n",
        "y_predicted_test=model0.predict(x_modified_test)\n",
        "y_predicted_train=model0.predict(x_modified_train)\n",
        "a=sqrt(mean_squared_error(y_train, y_predicted_train))\n",
        "b=sqrt(mean_squared_error(y_test, y_predicted_test))\n",
        "trainerror.append(a)\n",
        "testerror.append(b)"
      ],
      "execution_count": 0,
      "outputs": []
    },
    {
      "cell_type": "code",
      "metadata": {
        "id": "bm_Tu9mVs77D",
        "colab_type": "code",
        "outputId": "fa588424-c27b-403b-d0cd-ef779798fc24",
        "colab": {
          "base_uri": "https://localhost:8080/",
          "height": 283
        }
      },
      "source": [
        "\n",
        "count=np.array([1,2,3,4,5,6,7,8,9,10])\n",
        "\n",
        "plt.plot(count,trainerror,'b')\n",
        "plt.plot(count,trainerror,'bo')\n",
        "\n",
        "plt.plot(count,testerror,'r')\n",
        "plt.plot(count,testerror,'ro')\n",
        "\n",
        "plt.xlabel('Degree')\n",
        "plt.ylabel('RMSE')\n",
        "\n",
        "plt.show()\n"
      ],
      "execution_count": 0,
      "outputs": [
        {
          "output_type": "display_data",
          "data": {
            "image/png": "[encoded data removed]",
            "text/plain": [
              "<Figure size 432x288 with 1 Axes>"
            ]
          },
          "metadata": {
            "tags": []
          }
        }
      ]
    },
    {
      "cell_type": "code",
      "metadata": {
        "id": "1mVbM5cjzsPc",
        "colab_type": "code",
        "colab": {}
      },
      "source": [
        "#the best degree is 4 as it has the lowest test error"
      ],
      "execution_count": 0,
      "outputs": []
    }
  ]
}